{
 "cells": [
  {
   "cell_type": "code",
   "execution_count": 36,
   "metadata": {},
   "outputs": [
    {
     "name": "stdout",
     "output_type": "stream",
     "text": [
      "Value for x0: 0\n",
      "Value for xN: 1\n",
      "Value for y0: 1\n",
      "Value for H: 0.2\n",
      "Value for N: 5\n",
      "[1.0, 1.2, 1.4971406934795841, 1.8228898525424624, 2.0901309296134363, 2.2193836612634086]\n",
      "+-----------+---+---+-------+\n",
      "| iteration | X | Y | VALUE |\n",
      "+-----------+---+---+-------+\n",
      "+-----------+---+---+-------+\n",
      "\n"
     ]
    }
   ],
   "source": [
    "from prettytable import PrettyTable\n",
    "import numpy as np\n",
    "import math\n",
    "\n",
    "def function(x, y):\n",
    "#     return x / y\n",
    "#     return x*math.e**(3*x) - 2*y\n",
    "    return math.cos(2*x) + math.sin(3*x)\n",
    "\n",
    "x0 = float(input(\"Value for x0: \"))\n",
    "xN = float(input(\"Value for xN: \"))\n",
    "y0 = float(input(\"Value for y0: \"))\n",
    "H = float(input(\"Value for H: \"))\n",
    "N = int(((xN - x0) / H))\n",
    "print(\"Value for N:\", N)\n",
    "\n",
    "x = []\n",
    "for i in np.arange(x0, xN + H, H):\n",
    "    x.append(i)\n",
    "\n",
    "t = PrettyTable()\n",
    "t.field_names = [\"iteration\", \"X\", \"Y\", \"VALUE\"]\n",
    "\n",
    "y = [y0]\n",
    "for i in range(0, N):\n",
    "    y.append(y[i] + (H * function(x[i], y[i])))\n",
    "    t.add_row([i+1, x[i], y[i], y[i] + (H * function(x[i], y[i]))])\n",
    "\n",
    "# y = [y0]\n",
    "# t.add_row([0, x[0], y0, y0 + H * function(x[0], y0)])\n",
    "# for i in range(1, N):\n",
    "#     y.append(y[i] + H * function(x[i], y[i - 1]))\n",
    "#     t.add_row([i, x[i], y[i - 1], y[i]])\n",
    "\n",
    "print(t, end='\\n\\n')"
   ]
  },
  {
   "cell_type": "code",
   "execution_count": 26,
   "metadata": {},
   "outputs": [
    {
     "data": {
      "text/plain": [
       "1.0104474148216405"
      ]
     },
     "execution_count": 26,
     "metadata": {},
     "output_type": "execute_result"
    }
   ],
   "source": []
  },
  {
   "cell_type": "code",
   "execution_count": 30,
   "metadata": {},
   "outputs": [
    {
     "data": {
      "text/plain": [
       "1.402089482964328"
      ]
     },
     "execution_count": 30,
     "metadata": {},
     "output_type": "execute_result"
    }
   ],
   "source": [
    "1.2 + (0.2 * function(0.2, y[i]))"
   ]
  },
  {
   "cell_type": "code",
   "execution_count": 33,
   "metadata": {},
   "outputs": [],
   "source": [
    "def function2(x):\n",
    "    return math.cos(2*x) + math.sin(3*x)"
   ]
  },
  {
   "cell_type": "code",
   "execution_count": 35,
   "metadata": {},
   "outputs": [
    {
     "data": {
      "text/plain": [
       "1.4857034673979206"
      ]
     },
     "execution_count": 35,
     "metadata": {},
     "output_type": "execute_result"
    }
   ],
   "source": [
    "function2(0.2)"
   ]
  },
  {
   "cell_type": "code",
   "execution_count": null,
   "metadata": {},
   "outputs": [],
   "source": []
  }
 ],
 "metadata": {
  "kernelspec": {
   "display_name": "Python 3",
   "language": "python",
   "name": "python3"
  },
  "language_info": {
   "codemirror_mode": {
    "name": "ipython",
    "version": 3
   },
   "file_extension": ".py",
   "mimetype": "text/x-python",
   "name": "python",
   "nbconvert_exporter": "python",
   "pygments_lexer": "ipython3",
   "version": "3.7.4"
  }
 },
 "nbformat": 4,
 "nbformat_minor": 4
}
