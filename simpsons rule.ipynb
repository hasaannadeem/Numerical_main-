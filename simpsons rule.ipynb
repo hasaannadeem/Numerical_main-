{
 "cells": [
  {
   "cell_type": "code",
   "execution_count": 22,
   "metadata": {},
   "outputs": [
    {
     "name": "stdout",
     "output_type": "stream",
     "text": [
      "Value for N: 4\n",
      "Value for x0: 1\n",
      "Value for xN: 2\n",
      "Value for H: 0.25\n",
      "\n",
      "+----+-------+--------------------+\n",
      "| X  | VALUE |        f(x)        |\n",
      "+----+-------+--------------------+\n",
      "| x0 |  1.0  |        0.0         |\n",
      "| x1 |  1.25 | 0.2789294391427622 |\n",
      "| x2 |  1.5  | 0.6081976621622466 |\n",
      "| x3 |  1.75 | 0.9793276288869897 |\n",
      "| x4 |  2.0  | 1.3862943611198906 |\n",
      "+----+-------+--------------------+\n",
      "\n",
      "f(x)dx = 0.25 / 3 [ 0.0 + 2 (0.6081976621622466  ) + 4 (0.2789294391427622 + 0.9793276288869897  ) + 1.3862943611198906 ] = 0.6363098297969492\n"
     ]
    }
   ],
   "source": [
    "from prettytable import PrettyTable\n",
    "import numpy as np\n",
    "import math\n",
    "\n",
    "def functionX(x):\n",
    "    return math.sqrt(x**2 + 1)\n",
    "#     return x * math.log(x)\n",
    "#     math.e\n",
    "\n",
    "N = int(input(\"Value for N: \"))\n",
    "x0 = int(input(\"Value for x0: \"))\n",
    "xN = int(input(\"Value for xN: \"))\n",
    "H = ((xN - x0) / N)\n",
    "print(\"Value for H:\", H, end='\\n\\n')\n",
    "\n",
    "x = []\n",
    "for i in np.arange(x0, xN + H, H):\n",
    "    x.append(i)\n",
    "        \n",
    "t = PrettyTable()\n",
    "t.field_names = [\"X\", \"VALUE\", \"f(x)\"]\n",
    "for i in range(N+1):\n",
    "    t.add_row([\"x\"+str(i), x[i], functionX(x[i])])\n",
    "print(t, end='\\n\\n')\n",
    "\n",
    "def simpsonsRule():\n",
    "    fx = 0\n",
    "    fxOdd = 0\n",
    "    fxEven = 0\n",
    "    \n",
    "    for i in range(1,len(x) - 1, 2):\n",
    "        fxOdd += functionX(x[i])\n",
    "    fxOdd *= 4\n",
    "    \n",
    "    for i in range(2,len(x) - 1, 2):\n",
    "        fxEven += functionX(x[i])\n",
    "    fxEven *= 2\n",
    "    \n",
    "    fx += functionX(x[0])\n",
    "    fx += functionX(x[len(x) - 1])\n",
    "    fx += fxEven\n",
    "    fx += fxOdd\n",
    "\n",
    "    fx = (H / 3) * fx\n",
    "      \n",
    "    return fx\n",
    "\n",
    "    \n",
    "def printEquation():\n",
    "    print(\"f(x)dx =\", H, \"/\", 3, \"[\", functionX(x[0]), \"+ 2\", \"(\", end='')\n",
    "    for i in range(2,len(x) - 1, 2):\n",
    "        print(functionX(x[i]), end=' + ')\n",
    "    print(\"\\b\\b ) +\", 4, \"(\", end='')\n",
    "    for i in range(1,len(x) - 1, 2):\n",
    "        print(functionX(x[i]), end=' + ')\n",
    "    print(\"\\b\\b ) +\", functionX(x[len(x) - 1]), \"] =\", simpsonsRule())\n",
    "    \n",
    "printEquation()"
   ]
  },
  {
   "cell_type": "code",
   "execution_count": null,
   "metadata": {},
   "outputs": [],
   "source": []
  }
 ],
 "metadata": {
  "kernelspec": {
   "display_name": "Python 3",
   "language": "python",
   "name": "python3"
  },
  "language_info": {
   "codemirror_mode": {
    "name": "ipython",
    "version": 3
   },
   "file_extension": ".py",
   "mimetype": "text/x-python",
   "name": "python",
   "nbconvert_exporter": "python",
   "pygments_lexer": "ipython3",
   "version": "3.7.4"
  }
 },
 "nbformat": 4,
 "nbformat_minor": 4
}
