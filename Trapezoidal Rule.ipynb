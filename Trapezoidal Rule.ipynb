{
 "cells": [
  {
   "cell_type": "code",
   "execution_count": 28,
   "metadata": {},
   "outputs": [
    {
     "name": "stdout",
     "output_type": "stream",
     "text": [
      "Value for N: 1\n",
      "Value for x0: 0\n",
      "Value for xN: 1\n",
      "Value for H: 1.0\n",
      "\n",
      "+----+-------+--------------------+\n",
      "| X  | VALUE |        f(x)        |\n",
      "+----+-------+--------------------+\n",
      "| x0 |  0.0  |        1.0         |\n",
      "| x1 |  1.0  | 1.4142135623730951 |\n",
      "+----+-------+--------------------+\n",
      "\n",
      "f(x)dx = 1.0 / 2 [ 1.0 + 2 ) + 1.4142135623730951 ] = 1.2071067811865475\n"
     ]
    }
   ],
   "source": [
    "from prettytable import PrettyTable\n",
    "import numpy as np\n",
    "import math\n",
    "\n",
    "def functionX(x):\n",
    "    return math.sqrt(x**2 + 1)\n",
    "#     return x * math.log(x)\n",
    "#     math.e\n",
    "\n",
    "N = int(input(\"Value for N: \"))\n",
    "x0 = int(input(\"Value for x0: \"))\n",
    "xN = int(input(\"Value for xN: \"))\n",
    "H = ((xN - x0) / N)\n",
    "print(\"Value for H:\", H, end='\\n\\n')\n",
    "\n",
    "x = []\n",
    "for i in np.arange(x0, xN + H, H):\n",
    "    x.append(i)\n",
    "        \n",
    "t = PrettyTable()\n",
    "t.field_names = [\"X\", \"VALUE\", \"f(x)\"]\n",
    "for i in range(N+1):\n",
    "    t.add_row([\"x\"+str(i), x[i], functionX(x[i])])\n",
    "print(t, end='\\n\\n')\n",
    "\n",
    "def trapezoidalRule():\n",
    "    fx = 0\n",
    "    \n",
    "    for i in range(1,len(x) - 1):\n",
    "        fx += functionX(x[i])\n",
    "    fx *= 2\n",
    "    \n",
    "    fx += functionX(x[0])\n",
    "    fx += functionX(x[len(x) - 1])\n",
    "\n",
    "    fx = (H / 2) * fx\n",
    "    \n",
    "    return fx\n",
    "    \n",
    "def printEquation():\n",
    "    print(\"f(x)dx =\", H, \"/\", 2, \"[\", functionX(x[0]), \"+ 2\", \"(\", end='')\n",
    "    for i in range(1,len(x) - 1):\n",
    "        print(functionX(x[i]), end=' + ')\n",
    "    print(\"\\b\\b ) +\", functionX(x[len(x) - 1]), \"] =\", trapezoidalRule())\n",
    "    \n",
    "printEquation()"
   ]
  },
  {
   "cell_type": "code",
   "execution_count": null,
   "metadata": {},
   "outputs": [],
   "source": []
  }
 ],
 "metadata": {
  "kernelspec": {
   "display_name": "Python 3",
   "language": "python",
   "name": "python3"
  },
  "language_info": {
   "codemirror_mode": {
    "name": "ipython",
    "version": 3
   },
   "file_extension": ".py",
   "mimetype": "text/x-python",
   "name": "python",
   "nbconvert_exporter": "python",
   "pygments_lexer": "ipython3",
   "version": "3.7.4"
  }
 },
 "nbformat": 4,
 "nbformat_minor": 4
}
